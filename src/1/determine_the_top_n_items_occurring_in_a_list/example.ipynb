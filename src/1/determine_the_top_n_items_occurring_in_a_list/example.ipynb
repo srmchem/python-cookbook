{
  "nbformat": 4,
  "nbformat_minor": 0,
  "metadata": {
    "colab": {
      "name": "Untitled0.ipynb",
      "provenance": [],
      "authorship_tag": "ABX9TyP4GYyi+29ZQkN/hzYZ2G34",
      "include_colab_link": true
    },
    "kernelspec": {
      "name": "python3",
      "display_name": "Python 3"
    }
  },
  "cells": [
    {
      "cell_type": "markdown",
      "metadata": {
        "id": "view-in-github",
        "colab_type": "text"
      },
      "source": [
        "<a href=\"https://colab.research.google.com/github/srmchem/python-cookbook/blob/work-10062020/src/1/determine_the_top_n_items_occurring_in_a_list/example.ipynb\" target=\"_parent\"><img src=\"https://colab.research.google.com/assets/colab-badge.svg\" alt=\"Open In Colab\"/></a>"
      ]
    },
    {
      "cell_type": "markdown",
      "metadata": {
        "id": "7K08NT5-5qae"
      },
      "source": [
        "#example.py\n",
        "#Determine the most common words in a list"
      ]
    },
    {
      "cell_type": "markdown",
      "metadata": {
        "id": "G9CXm6Ci5yaI"
      },
      "source": [
        ""
      ]
    },
    {
      "cell_type": "code",
      "metadata": {
        "id": "pAnz_hds57_8",
        "outputId": "6a881daf-1321-4576-9d37-c7ef10b57b96",
        "colab": {
          "base_uri": "https://localhost:8080/",
          "height": 34
        }
      },
      "source": [
        "words = [\n",
        "   'look', 'into', 'my', 'eyes', 'look', 'into', 'my', 'eyes',\n",
        "   'the', 'eyes', 'the', 'eyes', 'the', 'eyes', 'not', 'around', 'the',\n",
        "   'eyes', \"don't\", 'look', 'around', 'the', 'eyes', 'look', 'into',\n",
        "   'my', 'eyes', \"you're\", 'under'\n",
        "]\n",
        "\n",
        "from collections import Counter\n",
        "word_counts = Counter(words)\n",
        "top_three = word_counts.most_common(3)\n",
        "print(top_three)"
      ],
      "execution_count": null,
      "outputs": [
        {
          "output_type": "stream",
          "text": [
            "[('eyes', 8), ('the', 5), ('look', 4)]\n"
          ],
          "name": "stdout"
        }
      ]
    },
    {
      "cell_type": "markdown",
      "metadata": {
        "id": "DJV1Ryai6Jc5"
      },
      "source": [
        "# outputs [('eyes', 8), ('the', 5), ('look', 4)]\n",
        "\n",
        "# Example of merging in more words\n"
      ]
    }
  ]
}